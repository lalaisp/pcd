{
  "nbformat": 4,
  "nbformat_minor": 0,
  "metadata": {
    "colab": {
      "provenance": [],
      "gpuType": "T4",
      "authorship_tag": "ABX9TyOyp6luwTW05dNEbycq9ZSe",
      "include_colab_link": true
    },
    "kernelspec": {
      "name": "python3",
      "display_name": "Python 3"
    },
    "language_info": {
      "name": "python"
    },
    "accelerator": "GPU"
  },
  "cells": [
    {
      "cell_type": "markdown",
      "metadata": {
        "id": "view-in-github",
        "colab_type": "text"
      },
      "source": [
        "<a href=\"https://colab.research.google.com/github/lalaisp/pcd/blob/main/pcd2_cuda.ipynb\" target=\"_parent\"><img src=\"https://colab.research.google.com/assets/colab-badge.svg\" alt=\"Open In Colab\"/></a>"
      ]
    },
    {
      "cell_type": "code",
      "source": [
        "%%writefile difusao.c\n",
        "#include <stdio.h>\n",
        "#include <stdlib.h>\n",
        "#include <math.h>\n",
        "#define N 2000  // Tamanho da grade\n",
        "#define T 500 // Número de iterações no tempo\n",
        "#define D 0.1  // Coeficiente de difusão\n",
        "#define DELTA_T 0.01\n",
        "#define DELTA_X 1.0\n",
        "\n",
        "void diff_eq(double **C, double **C_new) { //diff_eq(double C[N][N], double C_new[N][N]) {\n",
        "    for (int t = 0; t < T; t++) {\n",
        "        for (int i = 1; i < N - 1; i++) {\n",
        "            for (int j = 1; j < N - 1; j++) {\n",
        "                C_new[i][j] = C[i][j] + D * DELTA_T * (\n",
        "                    (C[i+1][j] + C[i-1][j] + C[i][j+1] + C[i][j-1] - 4 * C[i][j]) / (DELTA_X * DELTA_X)\n",
        "                );\n",
        "            }\n",
        "        }\n",
        "        // Atualizar matriz para a próxima iteração\n",
        "        double difmedio = 0.;\n",
        "        for (int i = 1; i < N - 1; i++) {\n",
        "            for (int j = 1; j < N - 1; j++) {\n",
        "                difmedio += fabs(C_new[i][j] - C[i][j]);\n",
        "                C[i][j] = C_new[i][j];\n",
        "            }\n",
        "        }\n",
        "        if ((t%100) == 0)\n",
        "          printf(\"interacao %d - diferenca=%g\\n\", t, difmedio/((N-2)*(N-2)));\n",
        "    }\n",
        "}\n",
        "\n",
        "int main() {\n",
        "\n",
        "    // Concentração inicial\n",
        "    double **C = (double **)malloc(N * sizeof(double *));\n",
        "    if (C == NULL) {\n",
        "      fprintf(stderr, \"Memory allocation failed\\n\");\n",
        "      return 1;\n",
        "    }\n",
        "    for (int i = 0; i < N; i++) {\n",
        "      C[i] = (double *)malloc(N * sizeof(double));\n",
        "      if (C[i] == NULL) {\n",
        "        fprintf(stderr, \"Memory allocation failed\\n\");\n",
        "        return 1;\n",
        "      }\n",
        "    }\n",
        "    for (int i = 0; i < N; i++) {\n",
        "      for (int j = 0; j < N; j++) {\n",
        "        C[i][j] = 0.;\n",
        "      }\n",
        "    }\n",
        "\n",
        "    // Concentração para a próxima iteração\n",
        "    double **C_new = (double **)malloc(N * sizeof(double *));\n",
        "    if (C_new == NULL) {\n",
        "      fprintf(stderr, \"Memory allocation failed\\n\");\n",
        "      return 1;\n",
        "    }\n",
        "    for (int i = 0; i < N; i++) {\n",
        "      C_new[i] = (double *)malloc(N * sizeof(double));\n",
        "      if (C_new[i] == NULL) {\n",
        "        fprintf(stderr, \"Memory allocation failed\\n\");\n",
        "        return 1;\n",
        "      }\n",
        "    }\n",
        "    for (int i = 0; i < N; i++) {\n",
        "      for (int j = 0; j < N; j++) {\n",
        "        C_new[i][j] = 0.;\n",
        "      }\n",
        "    }\n",
        "\n",
        "    // Inicializar uma concentração alta no centro\n",
        "    C[N/2][N/2] = 1.0;\n",
        "\n",
        "    // Executar as iterações no tempo para a equação de difusão\n",
        "    diff_eq(C, C_new);\n",
        "\n",
        "    // Exibir resultado para verificação\n",
        "    printf(\"Concentração final no centro: %f\\n\", C[N/2][N/2]);\n",
        "    return 0;\n",
        "}"
      ],
      "metadata": {
        "colab": {
          "base_uri": "https://localhost:8080/"
        },
        "id": "qCzlW0V_Otl-",
        "outputId": "0e1ef1ea-3783-4578-8d3a-5d0dd2ff2055"
      },
      "execution_count": 21,
      "outputs": [
        {
          "output_type": "stream",
          "name": "stdout",
          "text": [
            "Writing difusao.c\n"
          ]
        }
      ]
    },
    {
      "cell_type": "code",
      "source": [
        "!rm difusao.x\n",
        "!gcc difusao.c -o difusao.x\n",
        "!time ./difusao.x"
      ],
      "metadata": {
        "colab": {
          "base_uri": "https://localhost:8080/"
        },
        "id": "m6d7L80HOu_k",
        "outputId": "940912aa-fabf-4797-d61d-0c46be486544"
      },
      "execution_count": 22,
      "outputs": [
        {
          "output_type": "stream",
          "name": "stdout",
          "text": [
            "rm: cannot remove 'difusao.x': No such file or directory\n",
            "interacao 0 - diferenca=2.00401e-09\n",
            "interacao 100 - diferenca=1.23248e-09\n",
            "interacao 200 - diferenca=7.81794e-10\n",
            "interacao 300 - diferenca=5.11528e-10\n",
            "interacao 400 - diferenca=4.21632e-10\n",
            "Concentração final no centro: 0.216512\n",
            "\n",
            "real\t0m30.293s\n",
            "user\t0m30.040s\n",
            "sys\t0m0.040s\n"
          ]
        }
      ]
    },
    {
      "cell_type": "code",
      "source": [
        "!more /proc/cpuinfo &> processador.txt\n",
        "!more processador.txt | grep model"
      ],
      "metadata": {
        "colab": {
          "base_uri": "https://localhost:8080/"
        },
        "id": "IPlXPCiIOw90",
        "outputId": "b1d72d3c-89ec-4560-ca2f-a983a97c0c6a"
      },
      "execution_count": 23,
      "outputs": [
        {
          "output_type": "stream",
          "name": "stdout",
          "text": [
            "model\t\t: 85\n",
            "model name\t: Intel(R) Xeon(R) CPU @ 2.00GHz\n",
            "model\t\t: 85\n",
            "model name\t: Intel(R) Xeon(R) CPU @ 2.00GHz\n"
          ]
        }
      ]
    },
    {
      "cell_type": "code",
      "execution_count": 18,
      "metadata": {
        "colab": {
          "base_uri": "https://localhost:8080/"
        },
        "id": "s_ulBsxInsvT",
        "outputId": "77301f49-ccf5-4c45-a8a0-3b612799499a"
      },
      "outputs": [
        {
          "output_type": "stream",
          "name": "stdout",
          "text": [
            "Overwriting pcd2_1.cu\n"
          ]
        }
      ],
      "source": [
        "%%writefile pcd2_1.cu\n",
        "\n",
        "#include <stdio.h>\n",
        "#include <stdlib.h>\n",
        "#include <math.h>\n",
        "#include <cuda_runtime.h>\n",
        "\n",
        "//#define N 2000 // Tamanho da grade\n",
        "#define T 500  // Número de iterações\n",
        "#define D 0.1  // Coeficiente de difusão\n",
        "#define DELTA_T 0.01 // Passo temporal\n",
        "#define DELTA_X 1.0  // Passo espacial\n",
        "\n",
        "// Kernel CUDA para computar a equação\n",
        "__global__ void diff_eq_kernel(double* C, double* C_new, int N) {\n",
        "    int i = blockIdx.y * blockDim.y + threadIdx.y + 1;\n",
        "    int j = blockIdx.x * blockDim.x + threadIdx.x + 1;\n",
        "\n",
        "    if (i < N - 1 && j < N - 1) {\n",
        "        C_new[i * N + j] = C[i * N + j] + D * DELTA_T * (\n",
        "            (C[(i + 1) * N + j] + C[(i - 1) * N + j] + C[i * N + (j + 1)] + C[i * N + (j - 1)] - 4 * C[i * N + j]) /\n",
        "            (DELTA_X * DELTA_X)\n",
        "        );\n",
        "    }\n",
        "}\n",
        "\n",
        "// Kernel CUDA para atualizar a matriz e calcular a diferença média\n",
        "__global__ void update_kernel(double* C, double* C_new, double* difmedio, int N) {\n",
        "\n",
        "    __shared__ double dif_shared[256]; // depende do número de threads por bloco, vai ser blockDim.x * blockDim.y entao se for 2x2 vai ser 4 threads\n",
        "\n",
        "    int tid = threadIdx.x + threadIdx.y * blockDim.x;\n",
        "    int i = blockIdx.y * blockDim.y + threadIdx.y + 1;\n",
        "    int j = blockIdx.x * blockDim.x + threadIdx.x + 1;\n",
        "\n",
        "    double local_dif = 0.0;\n",
        "\n",
        "    if (i < N - 1 && j < N - 1) {\n",
        "        local_dif = fabs(C_new[i * N + j] - C[i * N + j]);\n",
        "        C[i * N + j] = C_new[i * N + j];\n",
        "    }\n",
        "\n",
        "    dif_shared[tid] = local_dif;\n",
        "    __syncthreads();\n",
        "\n",
        "    // Redução paralela para somar difmedio !!\n",
        "    for (int stride = blockDim.x * blockDim.y / 2; stride > 0; stride /= 2) {\n",
        "        if (tid < stride) {\n",
        "            dif_shared[tid] += dif_shared[tid + stride];\n",
        "        }\n",
        "        __syncthreads();\n",
        "    }\n",
        "\n",
        "    if (tid == 0) {\n",
        "        //atomicAdd(difmedio, dif_shared[0]); //colab deu erro\n",
        "        atomicAdd(reinterpret_cast<unsigned long long int*>(difmedio), __double_as_longlong(dif_shared[0]));\n",
        "\n",
        "    }\n",
        "}\n",
        "\n",
        "\n",
        "int main() {\n",
        "    double *C, *C_new, *d_C, *d_C_new, *d_difmedio;\n",
        "    //double difmedio = 0.0;\n",
        "    int N = 2000;\n",
        "\n",
        "    size_t size = N * N * sizeof(double);\n",
        "\n",
        "    // Alocação de memória no host\n",
        "    C = (double*)calloc(N * N, sizeof(double));\n",
        "    C_new = (double*)calloc(N * N, sizeof(double));\n",
        "    C[N / 2 * N + N / 2] = 1.0; // Concentração inicial no centro\n",
        "\n",
        "    // Alocação de memória na GPU\n",
        "    cudaMalloc(&d_C, size);\n",
        "    cudaMalloc(&d_C_new, size);\n",
        "    cudaMalloc(&d_difmedio, sizeof(double));\n",
        "\n",
        "    cudaMemcpy(d_C, C, size, cudaMemcpyHostToDevice);\n",
        "    cudaMemcpy(d_C_new, C_new, size, cudaMemcpyHostToDevice);\n",
        "\n",
        "    dim3 threadsPerBlock(16, 16); //defino o numero de threads por bloco AQUI\n",
        "\n",
        "    dim3 numBlocks((N + threadsPerBlock.x - 1) / threadsPerBlock.x,\n",
        "                   (N + threadsPerBlock.y - 1) / threadsPerBlock.y);\n",
        "\n",
        "    double start = clock();\n",
        "\n",
        "    for (int t = 0; t < T; t++) {\n",
        "        cudaMemset(d_difmedio, 0, sizeof(double));\n",
        "\n",
        "        diff_eq_kernel<<<numBlocks, threadsPerBlock>>>(d_C, d_C_new, N);\n",
        "        update_kernel<<<numBlocks, threadsPerBlock>>>(d_C, d_C_new, d_difmedio, N);\n",
        "\n",
        "        cudaDeviceSynchronize();\n",
        "\n",
        "        // Exibe a diferença média a cada 100 iterações igual dos prof\n",
        "        // if (t % 100 == 0) {\n",
        "          //   cudaMemcpy(&difmedio, d_difmedio, sizeof(double), cudaMemcpyDeviceToHost);\n",
        "           //  printf(\"Iteração %d - Diferença média = %g\\n\", t, difmedio / ((N - 2) * (N - 2)));\n",
        "        // }\n",
        "    }\n",
        "\n",
        "    cudaMemcpy(C, d_C, size, cudaMemcpyDeviceToHost);\n",
        "\n",
        "    double end = clock();\n",
        "\n",
        "    printf(\"Concentração final: %f\\n\", C[(N / 2 - 2) * N + (N / 2 - 2)]);\n",
        "    printf(\"Tempo: %f\\n\", (end - start) / CLOCKS_PER_SEC);\n",
        "\n",
        "    // Liberação de memória\n",
        "    cudaFree(d_C);\n",
        "    cudaFree(d_C_new);\n",
        "    cudaFree(d_difmedio);\n",
        "    free(C);\n",
        "    free(C_new);\n",
        "\n",
        "    return 0;\n",
        "}\n"
      ]
    },
    {
      "cell_type": "code",
      "source": [
        "%%shell\n",
        "nvcc pcd2_1.cu -o pcd2\n"
      ],
      "metadata": {
        "colab": {
          "base_uri": "https://localhost:8080/"
        },
        "id": "8Eqs9eYKolZg",
        "outputId": "5701772d-ee2c-4d55-d038-a66c8f30f0b5"
      },
      "execution_count": 19,
      "outputs": [
        {
          "output_type": "execute_result",
          "data": {
            "text/plain": []
          },
          "metadata": {},
          "execution_count": 19
        }
      ]
    },
    {
      "cell_type": "code",
      "source": [
        "%%shell\n",
        "./pcd2\n",
        "//rodando com 2 threads"
      ],
      "metadata": {
        "colab": {
          "base_uri": "https://localhost:8080/"
        },
        "id": "LEiIy68EL784",
        "outputId": "5d525e7d-bfb3-46b0-b8fe-8175171d9048"
      },
      "execution_count": 9,
      "outputs": [
        {
          "output_type": "stream",
          "name": "stdout",
          "text": [
            "Concentração final: 0.002490\n",
            "Tempo: 1.734228\n"
          ]
        },
        {
          "output_type": "execute_result",
          "data": {
            "text/plain": []
          },
          "metadata": {},
          "execution_count": 9
        }
      ]
    },
    {
      "cell_type": "code",
      "source": [
        "%%shell\n",
        "./pcd2\n",
        "//rodando com 4 threads"
      ],
      "metadata": {
        "colab": {
          "base_uri": "https://localhost:8080/"
        },
        "id": "8kaRHy6DMgGn",
        "outputId": "1d83fba9-9f35-443f-c7c9-57d7c9323380"
      },
      "execution_count": 14,
      "outputs": [
        {
          "output_type": "stream",
          "name": "stdout",
          "text": [
            "Concentração final: 0.002490\n",
            "Tempo: 0.681926\n"
          ]
        },
        {
          "output_type": "execute_result",
          "data": {
            "text/plain": []
          },
          "metadata": {},
          "execution_count": 14
        }
      ]
    },
    {
      "cell_type": "code",
      "source": [
        "%%shell\n",
        "./pcd2\n",
        "//rodando com 8 threads"
      ],
      "metadata": {
        "colab": {
          "base_uri": "https://localhost:8080/"
        },
        "id": "UBrJ0wFFMh0X",
        "outputId": "10fec683-e5ed-4f9c-ba01-02a73d5f634a"
      },
      "execution_count": 17,
      "outputs": [
        {
          "output_type": "stream",
          "name": "stdout",
          "text": [
            "Concentração final: 0.002490\n",
            "Tempo: 0.550121\n"
          ]
        },
        {
          "output_type": "execute_result",
          "data": {
            "text/plain": []
          },
          "metadata": {},
          "execution_count": 17
        }
      ]
    },
    {
      "cell_type": "code",
      "source": [
        "%%shell\n",
        "./pcd2\n"
      ],
      "metadata": {
        "colab": {
          "base_uri": "https://localhost:8080/"
        },
        "id": "HVEgQ44yMiw2",
        "outputId": "a28dbf83-0f5f-414f-a115-ec2a0153b5d1"
      },
      "execution_count": 20,
      "outputs": [
        {
          "output_type": "stream",
          "name": "stdout",
          "text": [
            "Concentração final: 0.002490\n",
            "Tempo: 0.567217\n"
          ]
        },
        {
          "output_type": "execute_result",
          "data": {
            "text/plain": []
          },
          "metadata": {},
          "execution_count": 20
        }
      ]
    }
  ]
}